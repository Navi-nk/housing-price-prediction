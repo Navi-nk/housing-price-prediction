{
 "cells": [
  {
   "cell_type": "code",
   "execution_count": 60,
   "metadata": {
    "collapsed": true
   },
   "outputs": [],
   "source": [
    "import pandas as pd\n",
    "import numpy as np\n",
    "import seaborn as sns\n",
    "import matplotlib\n",
    "import matplotlib.pyplot as plt\n",
    "from scipy.stats import skew\n",
    "from scipy.stats import norm\n",
    "from scipy import stats"
   ]
  },
  {
   "cell_type": "code",
   "execution_count": 61,
   "metadata": {
    "collapsed": true
   },
   "outputs": [],
   "source": [
    "train_data_pri = pd.read_csv('./data/private_train.csv')\n",
    "test_data_pri = pd.read_csv('./data/private_test.csv')"
   ]
  },
  {
   "cell_type": "code",
   "execution_count": 26,
   "metadata": {
    "collapsed": false
   },
   "outputs": [
    {
     "name": "stdout",
     "output_type": "stream",
     "text": [
      "(457300, 20)\n",
      "(4033, 19)\n",
      "List of Columns:\n",
      "project_name, address, floor_area_sqm, type_of_land, price, contract_date, property_type, tenure, completion_date, type_of_sale, postal_district, postal_sector, postal_code, region, area, month, latitude, longitude, floor_num, unit_num \n",
      "\n",
      "\n",
      "List of Columns:\n",
      "project_name, address, floor_area_sqm, type_of_land, contract_date, property_type, tenure, completion_date, type_of_sale, postal_district, postal_sector, postal_code, region, area, month, latitude, longitude, floor_num, unit_num \n",
      "\n",
      "\n"
     ]
    }
   ],
   "source": [
    "train_data_pri = train_data_pri.drop(['index'],axis=1)\n",
    "test_data_pri = test_data_pri.drop(['index'],axis=1)\n",
    "print train_data_pri.shape\n",
    "print test_data_pri.shape\n",
    "print \"List of Columns:\\n\", \", \".join(train_data_pri.columns), \"\\n\\n\"\n",
    "print \"List of Columns:\\n\", \", \".join(test_data_pri.columns), \"\\n\\n\""
   ]
  },
  {
   "cell_type": "code",
   "execution_count": 36,
   "metadata": {
    "collapsed": false
   },
   "outputs": [
    {
     "data": {
      "text/plain": [
       "Series([], Name: completion_date, dtype: int64)"
      ]
     },
     "execution_count": 36,
     "metadata": {},
     "output_type": "execute_result"
    }
   ],
   "source": [
    "test_data_pri[test_data_pri['completion_date'] == 'Uncompleted'].completion_date.value_counts()"
   ]
  },
  {
   "cell_type": "code",
   "execution_count": 38,
   "metadata": {
    "collapsed": false
   },
   "outputs": [
    {
     "data": {
      "text/plain": [
       "Uncompleted    154395\n",
       "Name: completion_date, dtype: int64"
      ]
     },
     "execution_count": 38,
     "metadata": {},
     "output_type": "execute_result"
    }
   ],
   "source": [
    "train_data_pri[train_data_pri['completion_date'] == 'Uncompleted'].completion_date.value_counts()"
   ]
  },
  {
   "cell_type": "code",
   "execution_count": 37,
   "metadata": {
    "collapsed": false
   },
   "outputs": [
    {
     "data": {
      "text/plain": [
       "array(['2014', '1995', '1979', '2015', '2016', '1992', '1998', '1986',\n",
       "       '2011', '2010', '2000', '2012', '2001', '1999', '1968', '2004',\n",
       "       '2006', 'Unknown', '2005', '2009', '1975', '2013', '1996', '1997',\n",
       "       '1991', '1994', '2002', '1982', '2008', '2007', '1987', '1978',\n",
       "       '1983', '1984', '1972', '1990', '1993', '1971', '2003', '1969',\n",
       "       '1985', '1989', '2017', '1980', '1976', '1956', '1988', '1967',\n",
       "       '1958', '1957', '1955', '1977', '1960', '1966', '1965', '1961',\n",
       "       '1974', '1953', '1941', '1970', '1981', '1950', '1963', '1962'], dtype=object)"
      ]
     },
     "execution_count": 37,
     "metadata": {},
     "output_type": "execute_result"
    }
   ],
   "source": [
    "test_data_pri.completion_date.unique()"
   ]
  },
  {
   "cell_type": "code",
   "execution_count": null,
   "metadata": {
    "collapsed": true
   },
   "outputs": [],
   "source": []
  },
  {
   "cell_type": "code",
   "execution_count": 39,
   "metadata": {
    "collapsed": false
   },
   "outputs": [
    {
     "data": {
      "text/plain": [
       "array(['Strata', 'Land'], dtype=object)"
      ]
     },
     "execution_count": 39,
     "metadata": {},
     "output_type": "execute_result"
    }
   ],
   "source": [
    "test_data_pri.type_of_land.unique()"
   ]
  },
  {
   "cell_type": "code",
   "execution_count": 40,
   "metadata": {
    "collapsed": false
   },
   "outputs": [
    {
     "data": {
      "text/plain": [
       "array(['Strata', 'Land', 'Unknown'], dtype=object)"
      ]
     },
     "execution_count": 40,
     "metadata": {},
     "output_type": "execute_result"
    }
   ],
   "source": [
    "train_data_pri.type_of_land.unique()"
   ]
  },
  {
   "cell_type": "code",
   "execution_count": 41,
   "metadata": {
    "collapsed": false
   },
   "outputs": [
    {
     "data": {
      "text/plain": [
       "Series([], Name: type_of_land, dtype: int64)"
      ]
     },
     "execution_count": 41,
     "metadata": {},
     "output_type": "execute_result"
    }
   ],
   "source": [
    "test_data_pri[test_data_pri['type_of_land'] == 'Unknown'].type_of_land.value_counts()"
   ]
  },
  {
   "cell_type": "code",
   "execution_count": 42,
   "metadata": {
    "collapsed": false
   },
   "outputs": [
    {
     "data": {
      "text/plain": [
       "Unknown    928\n",
       "Name: type_of_land, dtype: int64"
      ]
     },
     "execution_count": 42,
     "metadata": {},
     "output_type": "execute_result"
    }
   ],
   "source": [
    "train_data_pri[train_data_pri['type_of_land'] == 'Unknown'].type_of_land.value_counts()"
   ]
  },
  {
   "cell_type": "code",
   "execution_count": null,
   "metadata": {
    "collapsed": true
   },
   "outputs": [],
   "source": []
  },
  {
   "cell_type": "code",
   "execution_count": 43,
   "metadata": {
    "collapsed": false
   },
   "outputs": [
    {
     "data": {
      "text/plain": [
       "array(['01-Jan-2010', '02-Jan-2010', '03-Jan-2010', ..., '3-Aug-2017',\n",
       "       '2-Aug-2017', '1-Aug-2017'], dtype=object)"
      ]
     },
     "execution_count": 43,
     "metadata": {},
     "output_type": "execute_result"
    }
   ],
   "source": [
    "train_data_pri.contract_date.unique()"
   ]
  },
  {
   "cell_type": "code",
   "execution_count": 44,
   "metadata": {
    "collapsed": false
   },
   "outputs": [
    {
     "data": {
      "text/plain": [
       "array(['29-Sep-2017', '28-Sep-2017', '27-Sep-2017', '26-Sep-2017',\n",
       "       '25-Sep-2017', '22-Sep-2017', '21-Sep-2017', '20-Sep-2017',\n",
       "       '19-Sep-2017', '18-Sep-2017', '15-Sep-2017', '14-Sep-2017',\n",
       "       '13-Sep-2017', '12-Sep-2017', '11-Sep-2017', '8-Sep-2017',\n",
       "       '7-Sep-2017', '6-Sep-2017', '5-Sep-2017', '4-Sep-2017',\n",
       "       '08-SEP-2017', '07-SEP-2017', '06-SEP-2017', '05-SEP-2017',\n",
       "       '04-SEP-2017', '22-SEP-2017', '21-SEP-2017', '20-SEP-2017',\n",
       "       '19-SEP-2017', '18-SEP-2017', '15-SEP-2017', '14-SEP-2017',\n",
       "       '13-SEP-2017', '12-SEP-2017', '11-SEP-2017', '09-SEP-2017',\n",
       "       '05-OCT-2017', '04-OCT-2017', '03-OCT-2017', '02-OCT-2017',\n",
       "       '29-SEP-2017', '28-SEP-2017', '27-SEP-2017', '26-SEP-2017',\n",
       "       '25-SEP-2017', '23-SEP-2017', '19-OCT-2017', '18-OCT-2017',\n",
       "       '17-OCT-2017', '16-OCT-2017', '13-OCT-2017', '12-OCT-2017',\n",
       "       '11-OCT-2017', '10-OCT-2017', '09-OCT-2017', '06-OCT-2017',\n",
       "       '01-NOV-2017', '31-OCT-2017', '30-OCT-2017', '29-OCT-2017',\n",
       "       '28-OCT-2017', '27-OCT-2017', '26-OCT-2017', '25-OCT-2017',\n",
       "       '24-OCT-2017', '23-OCT-2017', '22-OCT-2017', '21-OCT-2017',\n",
       "       '20-OCT-2017', '11-NOV-2017', '10-NOV-2017', '09-NOV-2017',\n",
       "       '08-NOV-2017', '07-NOV-2017', '06-NOV-2017', '03-NOV-2017',\n",
       "       '02-NOV-2017', '27-NOV-2017', '26-NOV-2017', '24-NOV-2017',\n",
       "       '23-NOV-2017', '22-NOV-2017', '21-NOV-2017', '20-NOV-2017',\n",
       "       '17-NOV-2017', '16-NOV-2017', '15-NOV-2017', '14-NOV-2017',\n",
       "       '13-NOV-2017', '30-NOV-2017', '29-NOV-2017', '28-NOV-2017'], dtype=object)"
      ]
     },
     "execution_count": 44,
     "metadata": {},
     "output_type": "execute_result"
    }
   ],
   "source": [
    "test_data_pri.contract_date.unique()"
   ]
  },
  {
   "cell_type": "code",
   "execution_count": 59,
   "metadata": {
    "collapsed": false
   },
   "outputs": [
    {
     "data": {
      "text/plain": [
       "array(['2010-1', '2010-2', '2010-3', '2010-4', '2010-5', '2010-6',\n",
       "       '2010-7', '2010-8', '2010-9', '2010-10', '2010-11', '2010-12',\n",
       "       '2011-1', '2011-2', '2011-3', '2011-4', '2011-5', '2011-6',\n",
       "       '2011-7', '2011-8', '2011-9', '2011-10', '2011-11', '2011-12',\n",
       "       '2012-1', '2012-2', '2012-3', '2012-4', '2012-5', '2012-6',\n",
       "       '2012-7', '2012-8', '2012-9', '2012-10', '2012-11', '2012-12',\n",
       "       '2013-1', '2013-2', '2013-3', '2013-4', '2013-5', '2013-6',\n",
       "       '2013-7', '2013-8', '2013-9', '2013-10', '2013-11', '2013-12',\n",
       "       '2014-1', '2014-2', '2014-3', '2014-4', '2014-5', '2014-6',\n",
       "       '2014-7', '2014-8', '2014-9', '2014-10', '2014-11', '2014-12',\n",
       "       '2015-1', '2015-2', '2015-3', '2015-4', '2015-5', '2015-6',\n",
       "       '2015-7', '2015-8', '2015-9', '2015-10', '2015-11', '2015-12',\n",
       "       '2016-1', '2016-2', '2016-3', '2016-4', '2016-5', '2016-6',\n",
       "       '2016-7', '2016-8', '2016-9', '2016-10', '2016-11', '2016-12',\n",
       "       '2017-1', '2017-2', '2017-3', '2017-4', '1995-1', '1995-2',\n",
       "       '1995-3', '1995-4', '1995-5', '1995-6', '1995-7', '1995-8',\n",
       "       '1995-9', '1995-10', '1995-11', '1995-12', '1996-1', '1996-2',\n",
       "       '1996-3', '1996-4', '1996-5', '1996-6', '1996-7', '1996-8',\n",
       "       '1996-9', '1996-10', '1996-11', '1996-12', '1997-1', '1997-2',\n",
       "       '1997-3', '1997-4', '1997-5', '1997-6', '1997-7', '1997-8',\n",
       "       '1997-9', '1997-10', '1997-11', '1997-12', '1998-1', '1998-2',\n",
       "       '1998-3', '1998-4', '1998-5', '1998-6', '1998-7', '1998-8',\n",
       "       '1998-9', '1998-10', '1998-11', '1998-12', '1999-1', '1999-2',\n",
       "       '1999-3', '1999-4', '1999-5', '1999-6', '1999-7', '1999-8',\n",
       "       '1999-9', '1999-10', '1999-11', '1999-12', '2000-1', '2000-2',\n",
       "       '2000-3', '2000-4', '2000-5', '2000-6', '2000-7', '2000-8',\n",
       "       '2000-9', '2000-10', '2000-11', '2000-12', '2001-1', '2001-2',\n",
       "       '2001-3', '2001-4', '2001-5', '2001-6', '2001-7', '2001-8',\n",
       "       '2001-9', '2001-10', '2001-11', '2001-12', '2002-12', '2002-11',\n",
       "       '2002-10', '2002-9', '2002-8', '2002-7', '2002-6', '2002-5',\n",
       "       '2002-4', '2002-3', '2002-2', '2002-1', '2003-1', '2003-2',\n",
       "       '2003-3', '2003-4', '2003-5', '2003-6', '2003-7', '2003-8',\n",
       "       '2003-9', '2003-10', '2003-11', '2003-12', '2004-1', '2004-2',\n",
       "       '2004-3', '2004-4', '2004-5', '2004-6', '2004-7', '2004-8',\n",
       "       '2004-9', '2004-10', '2004-11', '2004-12', '2005-1', '2005-2',\n",
       "       '2005-3', '2005-4', '2005-5', '2005-6', '2005-7', '2005-8',\n",
       "       '2005-9', '2005-10', '2005-11', '2005-12', '2006-1', '2006-2',\n",
       "       '2006-3', '2006-4', '2006-5', '2006-6', '2006-7', '2006-8',\n",
       "       '2006-9', '2006-10', '2006-11', '2006-12', '2007-1', '2007-2',\n",
       "       '2007-3', '2007-4', '2007-5', '2007-6', '2007-7', '2007-8',\n",
       "       '2007-9', '2007-10', '2007-11', '2007-12', '2008-1', '2008-2',\n",
       "       '2008-3', '2008-4', '2008-5', '2008-6', '2008-7', '2008-8',\n",
       "       '2008-9', '2008-10', '2008-11', '2008-12', '2009-1', '2009-2',\n",
       "       '2009-3', '2009-4', '2009-5', '2009-6', '2009-7', '2009-8',\n",
       "       '2009-9', '2009-10', '2009-11', '2009-12', '2017-5', '2017-6',\n",
       "       '2017-7', '2017-8'], dtype=object)"
      ]
     },
     "execution_count": 59,
     "metadata": {},
     "output_type": "execute_result"
    }
   ],
   "source": [
    "train_data_pri.month.unique()"
   ]
  },
  {
   "cell_type": "code",
   "execution_count": 45,
   "metadata": {
    "collapsed": false
   },
   "outputs": [
    {
     "data": {
      "text/plain": [
       "array(['Condominium', 'Semi-Detached House', 'Apartment',\n",
       "       'Executive Condominium', 'Terrace House', 'Detached House'], dtype=object)"
      ]
     },
     "execution_count": 45,
     "metadata": {},
     "output_type": "execute_result"
    }
   ],
   "source": [
    "train_data_pri.property_type.unique()"
   ]
  },
  {
   "cell_type": "code",
   "execution_count": 46,
   "metadata": {
    "collapsed": false
   },
   "outputs": [
    {
     "data": {
      "text/plain": [
       "array(['Condominium', 'Apartment', 'Terrace House', 'Semi-Detached House',\n",
       "       'Detached House', 'Executive Condominium'], dtype=object)"
      ]
     },
     "execution_count": 46,
     "metadata": {},
     "output_type": "execute_result"
    }
   ],
   "source": [
    "test_data_pri.property_type.unique()"
   ]
  },
  {
   "cell_type": "code",
   "execution_count": null,
   "metadata": {
    "collapsed": true
   },
   "outputs": [],
   "source": []
  },
  {
   "cell_type": "code",
   "execution_count": 47,
   "metadata": {
    "collapsed": false
   },
   "outputs": [
    {
     "data": {
      "text/plain": [
       "array(['99 Yrs From 25/02/1998', '103 Yrs From 18/08/2009',\n",
       "       '99 Yrs From 16/08/1999', 'Freehold', '99 Yrs From 18/11/1991',\n",
       "       '99 Yrs From 01/09/1991', '99 Yrs From 25/03/1968',\n",
       "       '99 Yrs From 14/11/1996', '99 Yrs From 29/01/2002',\n",
       "       '999 Yrs From 12/10/1885', '99 Yrs From 22/09/1997',\n",
       "       '99 Yrs From 29/11/2000', '999 Yrs From 01/06/1885',\n",
       "       '99 Yrs From 17/03/1997', '99 Yrs From 24/04/1996',\n",
       "       '99 Yrs From 12/08/2002', '929 Yrs From 01/01/1953',\n",
       "       '9999 Yrs From 01/01/1957', '99 Yrs From 12/09/2000',\n",
       "       '99 Yrs From 20/06/2000', '999 Yrs From 01/09/1876',\n",
       "       '99 Yrs From 17/08/1979', '99 Yrs From 12/08/1996',\n",
       "       '99 Yrs From 08/03/2007', '99 Yrs From 30/08/1976',\n",
       "       '999 Yrs From 01/01/1879', '99 Yrs From 31/12/2007',\n",
       "       '99 Yrs From 18/07/1997', '99 Yrs From 31/05/1993',\n",
       "       '99 Yrs From 06/12/1997', '99 Yrs From 23/06/1995',\n",
       "       '99 Yrs From 11/09/2007', '99 Yrs From 01/03/1995',\n",
       "       '99 Yrs From 01/12/1991', '99 Yrs From 23/07/1991',\n",
       "       '99 Yrs From 20/07/2007', '99 Yrs From 24/06/1995',\n",
       "       '99 Yrs From 04/12/1996', '99 Yrs From 25/02/2008',\n",
       "       '99 Yrs From 11/07/2006', '99 Yrs From 12/06/1996',\n",
       "       '99 Yrs From 17/08/2001', '956 Yrs From 27/05/1928',\n",
       "       '99 Yrs From 30/04/2000', '99 Yrs From 08/09/1992',\n",
       "       '999 Yrs From 25/09/1882', '99 Yrs From 01/03/2003',\n",
       "       '99 Yrs From 02/01/2001', '99 Yrs From 12/08/1997',\n",
       "       '99 Yrs From 25/03/1981', '101 Yrs From 01/12/1985',\n",
       "       '99 Yrs From 17/05/1997', '99 Yrs Fr 14/07/2005',\n",
       "       '99 Yrs From 24/10/1997', '99 Yrs From 20/01/2004',\n",
       "       '99 Yrs From 01/06/1990', '99 Yrs From 01/09/1992',\n",
       "       '99 Yrs From 06/06/1980', '99 Yrs From 01/05/1994',\n",
       "       '99 Yrs From 16/12/1997', '99 Yrs From 07/11/1995',\n",
       "       '999 Yrs From 01/01/1954', '99 Yrs From 26/12/2006',\n",
       "       '99 Yrs From 08/01/1979', '99 Yrs From 13/02/1995',\n",
       "       '99 Yrs From 15/09/2005', '99 Yrs From 31/10/2007',\n",
       "       '99 Yrs From 01/09/1976', '99 Yrs From 07/02/2006',\n",
       "       '999 Yrs From 07/05/1879', '99 Yrs From 30/05/1994',\n",
       "       '99 Yrs From 05/03/2004', '99 Yrs From 01/03/1991',\n",
       "       '99 Yrs From 01/12/1994', '99 Yrs From 07/01/2002',\n",
       "       '99 Yrs From 15/07/2008', '99 Yrs From 03/03/1997',\n",
       "       '99 Yrs From 02/04/1998', '99 Yrs From 25/08/2008',\n",
       "       '99 Yrs From 13/12/2000', '99 Yrs From 22/11/2002',\n",
       "       '999 Yrs From 02/12/1885', '99 Yrs From 08/03/1982',\n",
       "       '103 Yrs From 28/11/2002', '99 Yrs From 06/02/2001',\n",
       "       '999 Yrs From 15/08/1884', '99 Yrs From 09/09/1999',\n",
       "       '99 Yrs From 31/03/1992', '99 Yrs From 07/04/2008',\n",
       "       '999 Yrs From 01/05/1878', '999 Yrs From 01/01/1955',\n",
       "       '99 Yrs From 26/06/1996', '999 Yrs From 21/06/1877',\n",
       "       '99 Yrs From 06/09/1996', '99 Yrs From 17/03/1982',\n",
       "       '99 Yrs From 17/03/2008', '99 Yrs From 07/01/2008',\n",
       "       '99 Yrs From 07/04/1975', '99 Yrs From 05/01/2004',\n",
       "       '99 Yrs From 14/10/2005', '999 Yrs From 19/02/1883',\n",
       "       '99 Yrs From 06/06/1994', '99 Yrs From 18/03/2004',\n",
       "       '99 Yrs From 11/02/2009', '99 Yrs From 02/07/2004',\n",
       "       '99 Yrs From 03/05/1994', '99 Yrs From 02/10/2001',\n",
       "       '999 Yrs From 01/07/1964', '999 Yrs From 19/05/1883',\n",
       "       '99 Yrs From 03/12/2002', '99 Yrs From 14/08/2000',\n",
       "       '99 Yrs From 17/02/2006', '947 Yrs From 05/10/1934',\n",
       "       '99 Yrs From 21/06/2006', '99 Yrs From 05/05/1997',\n",
       "       '99 Yrs From 27/01/2006', '99 Yrs From 05/04/1982',\n",
       "       '999 Yrs From 01/07/1841', '999 Yrs From 01/04/1878',\n",
       "       '99 Yrs From 06/11/1995', '99 Yrs From 15/09/1990',\n",
       "       '99 Yrs From 01/12/1975', '99 Yrs From 01/12/1993',\n",
       "       '999 Yrs From 21/02/1885', '99 Yrs From 01/05/1993',\n",
       "       '99 Yrs From 02/02/2005', '99 Yrs From 21/06/1995',\n",
       "       '999 Yrs From 29/05/1885', '99 Yrs From 24/08/1977',\n",
       "       '99 Yrs From 23/10/2006', '99 Yrs From 31/01/1997',\n",
       "       '99 Yrs From 01/04/1978', '100 Yrs From 01/02/1986',\n",
       "       '99 Yrs From 16/02/1998', '999 Yrs From 01/06/1875',\n",
       "       '99 Yrs From 01/10/1995', '99 Yrs From 21/06/2001',\n",
       "       '99 Yrs From 01/12/1997', '99 Yrs From 11/12/2007',\n",
       "       '99 Yrs From 18/04/2005', '999 Yrs From 27/12/1875',\n",
       "       '99 Yrs From 29/10/2001', '99 Yrs From 01/01/1995',\n",
       "       '999 Yrs From 02/10/1876', '99 Yrs From 28/04/2004',\n",
       "       '999 Yrs From 01/01/1886', '999 Yrs From 23/01/1879',\n",
       "       '999 Yrs From 06/07/1885', '99 Yrs From 01/08/1976',\n",
       "       '999 Yrs From 05/05/1886', '99 Yrs From 02/05/2001',\n",
       "       '99 Yrs From 01/11/1975', '999 Yrs From 16/08/1877',\n",
       "       '99 Yrs From 09/03/1994', '99 Yrs From 02/03/1998',\n",
       "       '999 Yrs From 14/02/1881', '99 Yrs From 11/04/2006',\n",
       "       '999 Yrs From 16/10/1884', '99 Yrs From 09/10/1996',\n",
       "       '99 Yrs From 19/03/2001', '99 Yrs From 01/07/1992',\n",
       "       '99 Yrs From 10/09/2007', '99 Yrs From 03/02/1994',\n",
       "       '99 Yrs From 03/02/1997', '99 Yrs From 20/06/1995',\n",
       "       '99 Yrs From 07/09/1996', '999 Yrs From 22/03/1881',\n",
       "       '99 Yrs From 03/01/2007', '99 Yrs From 21/03/2006',\n",
       "       '99 Yrs From 22/05/1997', '999 Yrs From 02/12/1878',\n",
       "       '999 Yrs From 01/01/1956', '99 Yrs From 22/03/1997',\n",
       "       '999 Yrs From 22/08/1883', '99 Yrs From 21/04/1994',\n",
       "       '103 Yrs From 12/04/2006', '99 Yrs From 03/01/2006',\n",
       "       '99 Yrs From 13/03/2008', '99 Yrs From 26/03/2008',\n",
       "       '99 Yrs From 10/03/2008', '99 Yrs From 20/08/1982',\n",
       "       '99 Yrs From 10/08/2005', '99 Yrs From 02/06/1970',\n",
       "       '99 Yrs From 21/03/1996', '99 Yrs From 25/07/2001',\n",
       "       '99 Yrs From 22/09/2008', '99 Yrs From 09/12/2008',\n",
       "       '99 Yrs From 01/06/1977', '99 Yrs From 15/12/1980',\n",
       "       '99 Yrs From 10/04/1982', '99 Yrs From 15/03/2006',\n",
       "       '999 Yrs From 01/01/1953', '99 Yrs From 06/10/2000',\n",
       "       '99 Yrs From 16/07/2002', '99 Yrs From 08/03/2006',\n",
       "       '99 Yrs From 08/11/2001', '99 Yrs From 20/10/1993',\n",
       "       '99 Yrs From 01/11/1984', '99 Yrs From 04/06/2001',\n",
       "       '99 Yrs From 20/06/2003', '99 Yrs From 16/06/1980',\n",
       "       '99 Yrs From 10/06/1996', '99 Yrs From 01/08/1994',\n",
       "       '999 Yrs From 02/06/1882', '99 Yrs From 01/10/1983',\n",
       "       '999 Yrs From 07/06/1884', '99 Yrs From 13/12/1996',\n",
       "       '999 Yrs From 10/08/1878', '99 Yrs From 20/03/1998',\n",
       "       '99 Yrs From 09/10/2000', '946 Yrs From 27/11/1937',\n",
       "       '999 Yrs From 14/02/1991', '103 Yrs From 02/06/2008',\n",
       "       '99 Yrs From 18/05/1995', '999 Yrs From 07/08/1832',\n",
       "       '103 Yrs From 23/04/2009', '99 Yrs From 01/10/1976',\n",
       "       '9999 Yrs From 08/05/1991', '999 Yrs From 01/05/1874',\n",
       "       '99 Yrs From 26/02/2004', '999999 Yrs From 01/01/1963',\n",
       "       '99 Yrs From 01/02/1973', '99 Yrs From 18/12/1997',\n",
       "       '99 Yrs From 14/07/2005', '99 Yrs From 23/07/2002',\n",
       "       '99 Yrs From 10/02/2000', '99 Yrs From 07/05/1975',\n",
       "       '99 Yrs From 03/05/2004', '99 Yrs From 15/11/1977',\n",
       "       '99 Yrs From 28/02/1996', '99 Yrs From 01/11/1977',\n",
       "       '99 Yrs From 27/01/1993', '99 Yrs From 05/06/2001',\n",
       "       '99 Yrs From 15/05/2007', '99 Yrs From 03/01/2005',\n",
       "       '99 Yrs From 19/03/1997', '99 Yrs From 08/04/1993',\n",
       "       '99 Yrs From 09/04/1998', '99 Yrs From 19/05/1982',\n",
       "       '99 Yrs From 02/02/1994', '999 Yrs From 23/03/1885',\n",
       "       '99 Yrs From 19/06/1995', '946 Yrs From 23/06/1938',\n",
       "       '99 Yrs From 08/05/2001', '999 Yrs From 01/10/1827',\n",
       "       '99 Yrs From 14/06/2007', '99 Yrs From 02/02/1998',\n",
       "       '99 Yrs From 04/01/1954', '99 Yrs From 13/03/2006',\n",
       "       '999999 Yrs From 01/01/1957', '999 Yrs From 26/03/1885',\n",
       "       '99 Yrs From 14/03/1997', '99 Yrs From 29/10/1993',\n",
       "       '99 Yrs From 01/09/1993', '99 Yrs From 14/12/1996',\n",
       "       '99 Yrs From 07/06/1996', '946 Yrs From 01/01/1938',\n",
       "       '999 Yrs From 30/01/1835', '99 Yrs From 20/06/2005',\n",
       "       '999 Yrs From 10/06/1885', '99 Yrs From 11/03/1999',\n",
       "       '99 Yrs From 06/02/2008', '99 Yrs From 28/03/1952',\n",
       "       '99 Yrs From 31/01/2004', '99 Yrs From 29/04/1981',\n",
       "       '99 Yrs From 05/12/1994', '999 Yrs From 21/09/1885',\n",
       "       '99 Yrs From 25/06/2008', '999 Yrs From 17/09/1885',\n",
       "       '99 Yrs From 27/02/2005', '99 Yrs From 21/07/2008',\n",
       "       '99 Yrs From 20/08/2001', '99 Yrs From 08/08/1994',\n",
       "       '99 Yrs From 19/07/1997', '999 Yrs From 09/01/1883',\n",
       "       '99 Yrs From 15/10/2007', '99 Yrs From 02/06/1969',\n",
       "       '99 Yrs From 21/11/2005', '99 Yrs From 08/11/2000',\n",
       "       '99 Yrs From 22/01/2003', '99 Yrs From 04/08/1995',\n",
       "       '99 Yrs From 22/06/1995', '999 Yrs From 10/02/1874',\n",
       "       '99 Yrs From 10/04/1995', '999 Yrs From 11/06/1883',\n",
       "       '99 Yrs From 03/09/1968', '99 Yrs From 08/07/1983',\n",
       "       '947 Yrs From 15/05/1937', '999 Yrs From 24/11/1995',\n",
       "       '9999 Yrs From 01/01/1961', '99 Yrs From 07/11/2005',\n",
       "       '99 Yrs From 13/06/2007', '99 Yrs From 08/04/2008',\n",
       "       '999 Yrs From 08/12/1986', '99 Yrs From 01/07/1973',\n",
       "       '99 Yrs From 09/01/2006', '999 Yrs From 01/08/1859',\n",
       "       '89 Yrs From 31/12/1979', '99 Yrs From 17/11/1993',\n",
       "       '99 Yrs From 09/06/2007', '999 Yrs From 01/01/1967',\n",
       "       '99 Yrs From 02/10/1992', '99 Yrs From 30/07/2007',\n",
       "       '99 Yrs From 12/04/2007', '99 Yrs From 15/07/1997',\n",
       "       '99 Yrs From 11/08/1997', '99 Yrs From 01/03/1977',\n",
       "       '9999 Yrs From 01/01/1958', '99 Yrs From 31/10/2006',\n",
       "       '99 Yrs From 24/04/1999', '60 Yrs From 01/01/1961',\n",
       "       '99 Yrs From 01/04/1992', '99 Yrs From 03/08/2006',\n",
       "       '999 Yrs From 06/10/1885', '102 Yrs From 01/08/1996',\n",
       "       '99 Yrs From 07/12/2009', '99 Yrs From 07/04/1995',\n",
       "       '999 Yrs From 01/01/1965', '99 Yrs From 27/02/1996',\n",
       "       '99 Yrs From 28/01/2008', '99 Yrs From 01/01/1969',\n",
       "       '99 Yrs From 01/08/1980', '70 Yrs From 19/08/1964',\n",
       "       '99 Yrs From 18/09/1979', '99 Yrs From 23/11/2009',\n",
       "       '99 Yrs From 12/02/2007', '999 Yrs From 25/01/1827',\n",
       "       '999 Yrs From 22/09/1885', '99 Yrs From 31/07/1978',\n",
       "       '99 Yrs From 21/11/1983', '99 Yrs From 01/08/2007',\n",
       "       '99 Yrs From 28/08/1995', '60 Yrs From 01/03/1977',\n",
       "       '99 Yrs From 07/02/2001', '99 Yrs From 06/05/2008',\n",
       "       '999 Yrs From 07/09/1885', '937 Yrs From 07/03/1939',\n",
       "       '945 Yrs From 08/07/1936', '99 Yrs From 21/10/1994',\n",
       "       '99 Yrs From 08/06/2005', '99 Yrs From 11/05/2005',\n",
       "       '99 Yrs From 26/05/1997', '9999 Yrs From 01/01/1960',\n",
       "       '99 Yrs From 27/07/2007', '99 Yrs From 26/02/2008',\n",
       "       '99 Yrs From 23/04/2007', '940 Yrs From 25/08/1941',\n",
       "       '998 Yrs From 27/12/1875', '99 Yrs From 07/05/1973',\n",
       "       '99 Yrs From 14/05/1993', '99 Yrs From 25/05/1978',\n",
       "       '9999 Yrs From 01/03/1965', '99 Yrs From 21/01/2002',\n",
       "       '99 Yrs From 30/05/1978', '99 Yrs From 21/06/1994',\n",
       "       '999999 Yrs From 01/01/1959', '99 Yrs From 26/11/2009',\n",
       "       '99 Yrs From 20/05/1978', '85 Yrs From 01/08/1990',\n",
       "       '999 Yrs From 19/06/1885', '99 Yrs From 10/11/1981',\n",
       "       '999 Yrs From 02/12/1985', '9999 Yrs From 01/08/1958',\n",
       "       '99 Yrs From 01/01/1965', '99 Yrs From 21/12/2009',\n",
       "       '99 Yrs From 01/03/1959', '99 Yrs From 06/01/2010',\n",
       "       '99 Yrs From 11/10/2005', '99 Yrs From 10/05/2010',\n",
       "       '103 Yrs From 01/05/1974', '99 Yrs From 26/08/1995',\n",
       "       '99 Yrs From 25/08/1983', '99 Yrs From 15/01/2001',\n",
       "       '99 Yrs From 30/06/1978', '99 Yrs From 18/03/1947',\n",
       "       '99 Yrs From 15/10/1969', '99 Yrs From 07/04/2006',\n",
       "       '99 Yrs From 27/04/1973', '99 Yrs From 27/06/2007',\n",
       "       '99 Yrs From 18/01/1972', '9999 Yrs From 02/06/1995',\n",
       "       '99 Yrs From 12/03/2007', '99 Yrs From 19/05/1978',\n",
       "       '9999 Yrs From 01/01/1956', '99 Yrs From 29/06/2006',\n",
       "       '998 Yrs From 12/10/1885', '99 Yrs From 21/10/1981',\n",
       "       '999 Yrs From 01/04/1982', '99 Yrs From 02/11/2006',\n",
       "       '99 Yrs From 02/06/2010', '99 Yrs From 26/09/2005',\n",
       "       '99 Yrs From 10/08/2010', '99 Yrs From 29/05/2007',\n",
       "       '99 Yrs From 30/01/2007', '9999 Yrs From 01/01/1964',\n",
       "       '99 Yrs From 03/08/2010', '99 Yrs From 16/06/2010',\n",
       "       '99 Yrs From 10/02/2001', '99 Yrs From 01/01/1972',\n",
       "       '99 Yrs From 23/05/1978', '99 Yrs From 14/06/2010',\n",
       "       '99 Yrs From 08/04/2010', '99 Yrs From 19/04/1994',\n",
       "       '99 Yrs From 13/09/2010', '99 Yrs From 13/08/1973',\n",
       "       '99 Yrs From 24/05/2010', '99 Yrs From 21/02/2007',\n",
       "       '99 Yrs From 14/09/2010', '99 Yrs From 31/05/1978',\n",
       "       '99 Yrs From 24/08/2010', '999 Yrs From 16/03/1994',\n",
       "       '99 Yrs From 05/09/2001', '99 Yrs From 15/07/1995',\n",
       "       '99 Yrs From 06/11/1999', '99 Yrs From 01/04/2010',\n",
       "       '99 Yrs From 08/09/2010', '999 Yrs From 01/09/1975',\n",
       "       '99 Yrs From 05/12/2005', '99 Yrs From 11/08/2010',\n",
       "       '9999 Yrs From 01/01/1962', '99 Yrs From 01/04/1979',\n",
       "       '99 Yrs From 18/02/2008', '99 Yrs From 09/09/1949',\n",
       "       '99 Yrs From 19/12/2006', '99 Yrs From 01/10/1988',\n",
       "       '99 Yrs From 28/07/2010', '999 Yrs From 14/07/1884',\n",
       "       '99 Yrs From 20/09/2010', '999 Yrs From 01/05/1972',\n",
       "       '99 Yrs From 01/08/1988', '99 Yrs From 01/07/1975',\n",
       "       '99 Yrs From 10/01/2011', '99 Yrs From 10/11/2005',\n",
       "       '99 Yrs From 23/08/2010', '99 Yrs From 29/05/1978',\n",
       "       '99 Yrs From 07/02/2011', '999 Yrs From 01/03/1991',\n",
       "       '99 Yrs From 24/01/2011', '99 Yrs From 19/11/2007',\n",
       "       '99 Yrs From 09/03/2010', '102 Yrs From 01/02/1986',\n",
       "       '99 Yrs From 04/05/1978', '99 Yrs From 21/12/2010',\n",
       "       '99 Yrs From 03/01/2011', '99 Yrs From 30/11/2010',\n",
       "       '99 Yrs From 06/12/2010', '9999 Yrs From 01/09/1986',\n",
       "       '99 Yrs From 08/02/2010', '99 Yrs From 02/03/2011',\n",
       "       '99 Yrs From 27/05/1978', '999 Yrs From 01/01/1957',\n",
       "       '99 Yrs From 09/02/2011', '99 Yrs From 27/12/2010',\n",
       "       '99 Yrs From 15/06/2011', '99 Yrs From 09/03/2011',\n",
       "       '9999 Yrs From 01/01/1965', '99 Yrs From 04/08/1969',\n",
       "       '99 Years With Effect From 2004', '99 Yrs From 23/06/2005',\n",
       "       '99 Yrs From 22/02/2011', '99 Yrs From 01/02/1957',\n",
       "       '99 Yrs From 18/09/2006', '993 Yrs From 01/01/1973',\n",
       "       '99 Yrs From 08/10/2007', '99 Yrs From 16/05/2005',\n",
       "       '99 Yrs From 24/07/2007', '99 Yrs From 25/01/2011',\n",
       "       '9999 Yrs From 01/09/1963', '99 Yrs From 20/12/2010',\n",
       "       '9999 Yrs From 01/01/1986', '999 Yrs From 31/05/1883',\n",
       "       '99 Yrs From 23/04/1973', '99 Yrs From 20/10/2010', '99 Yrs',\n",
       "       '99 Yrs From 04/11/2011', '99 Yrs From 01/06/2011',\n",
       "       '99 Yrs From 2004', '103 Yrs From 01/10/2010',\n",
       "       '99 Yrs From 13/09/2004', '99 Yrs From 29/08/2011',\n",
       "       '99 Yrs From 01/08/2011', '99 Yrs From 26/08/2011',\n",
       "       '99 Yrs From 19/09/1973', '99 Yrs From 18/05/2011',\n",
       "       '99 Yrs From 28/06/2011', '99 Yrs From 07/09/2011',\n",
       "       '99 Yrs From 21/11/2011', '99 Yrs From 29/06/2011',\n",
       "       '99 Yrs From 13/07/2011', '99 Yrs From 01/07/1978',\n",
       "       '99 Yrs From 12/04/1973', '102 Yrs From 01/01/1977',\n",
       "       '999 Yrs From 01/08/1962', '99 Yrs From 05/10/2011',\n",
       "       '99 Yrs From 06/10/2011', '99 Yrs From 15/03/2011',\n",
       "       '99 Yrs From 10/08/2011', '99 Yrs From 14/09/2011',\n",
       "       '999 Yrs From 20/01/1885', '998 Yrs From 01/07/1841',\n",
       "       '99 Yrs From 26/02/1965', '99 Yrs From 30/05/2011',\n",
       "       '99 Yrs From 22/10/2007', '99 Yrs From 03/10/2011',\n",
       "       '99 Yrs From 26/09/2011', '99 Yrs From 11/07/2011',\n",
       "       '99 Yrs From 05/12/2011', '99 Yrs From 06/02/2012',\n",
       "       '99 Yrs From 07/06/2011', '99 Yrs From 09/01/2012',\n",
       "       '99 Yrs From 30/01/2012', '999 Yrs From 01/01/1968',\n",
       "       '99 Yrs From 15/10/1976', '99 Yrs From 02/11/2004',\n",
       "       '99 Yrs From 10/01/2012', '999999 Yrs From 01/01/1958',\n",
       "       '99 Yrs From 25/01/2012', '99 Yrs From 20/04/1994',\n",
       "       '999 Yrs From 01/01/1959', '99 Yrs From 19/03/2012',\n",
       "       '99 Yrs From 28/11/2011', '99 Yrs From 29/11/2011',\n",
       "       '999 Yrs From 01/01/1960', '99 Yrs From 26/05/1973',\n",
       "       '99 Yrs From 17/05/1995', '99 Yrs From 25/04/2007',\n",
       "       '999 Yrs From 01/01/1958', '101 Yrs From 01/07/1977',\n",
       "       '99 Yrs From 11/11/2009', '99 Yrs From 14/05/2012',\n",
       "       '99 Yrs From 07/12/2011', '99 Yrs From 24/04/2012',\n",
       "       '99 Yrs From 16/08/2005', '99 Yrs From 21/01/2008',\n",
       "       '99 Yrs From 20/02/2012', '99 Yrs From 23/08/2005',\n",
       "       '999 Yrs From 10/06/1884', '99 Yrs From 30/07/1973',\n",
       "       '9999 Yrs From 01/01/1966', '99 Yrs From 20/07/2005',\n",
       "       '99 Yrs From 01/10/1986', '99 Yrs From 02/07/2012',\n",
       "       '99 Yrs From 01/08/1986', '99 Yrs From 25/04/2012',\n",
       "       '99 Yrs From 04/06/2012', '99 Yrs From 21/03/2012',\n",
       "       '99 Yrs From 06/03/2012', '99 Yrs From 03/09/2012',\n",
       "       '99 Yrs From 03/07/2012', '99 Yrs From 21/08/2012',\n",
       "       '9999 Yrs From 14/10/1995', '99 Yrs From 03/03/2008',\n",
       "       '99 Yrs From 13/08/2012', '99 Yrs From 18/07/2008',\n",
       "       '99 Yrs From 04/01/2013', '99 Yrs From 05/11/2012',\n",
       "       '99 Yrs From 16/04/2012', '953 Yrs From 01/06/1931',\n",
       "       '99 Yrs From 01/10/2012', '199 Yrs From 13/04/2011',\n",
       "       '99 Yrs From 09/11/1960', '99 Yrs From 11/10/1973',\n",
       "       '99 Yrs From 07/05/2012', '99 Yrs From 24/01/2013',\n",
       "       '99 Yrs From 19/12/2012', '99 Yrs From 26/02/2007',\n",
       "       '99 Yrs From 11/07/2012', '103 Yrs From 08/01/2013',\n",
       "       '99 Yrs From 28/02/2013', '99 Yrs From 12/09/2012',\n",
       "       '99 Yrs From 28/08/2012', '99 Yrs From 03/10/2005',\n",
       "       '99 Yrs From 13/04/1949', '99 Yrs From 13/05/1978',\n",
       "       '99 Yrs From 06/08/2012', '99 Yrs From 10/09/2012',\n",
       "       '99 Yrs From 06/01/2012', '99 Yrs From 07/11/2012',\n",
       "       '99 Yrs From 13/02/2013', '99 Yrs From 04/12/2012',\n",
       "       '99 Yrs From 21/01/2013', '99 Yrs From 21/12/2012',\n",
       "       '99 Yrs From 04/03/2013', '99 Yrs From 03/10/2007',\n",
       "       '99 Yrs From 25/02/2013', '99 Yrs From 30/04/2013',\n",
       "       '99 Yrs From 05/12/2012', '103 Yrs From 12/08/2013',\n",
       "       '99 Yrs From 25/05/2012', '99 Yrs From 11/07/2007',\n",
       "       '99 Yrs From 13/04/1994', '99 Yrs From 03/06/1994',\n",
       "       '99 Yrs From 11/03/2013', '99 Yrs From 01/07/2011',\n",
       "       '99 Yrs From 18/03/2013', '99 Yrs From 04/06/2007',\n",
       "       '99 Yrs From 08/02/1973', '99 Yrs From 21/02/2011',\n",
       "       '999 Yrs From 28/10/1991', '60 Yrs From 19/02/2013',\n",
       "       '99 Yrs From 08/04/2013', '999 Yrs From 01/01/1966',\n",
       "       '99 Yrs From 12/05/1978', '99 Yrs From 10/07/2013',\n",
       "       '99 Yrs From 28/08/2013', '999 Yrs From 01/07/1976',\n",
       "       '9999 Yrs From 01/07/1960', '99 Yrs From 16/10/2013',\n",
       "       '9999 Yrs From 01/11/1960', '99 Yrs From 02/05/1949',\n",
       "       '99 Yrs From 01/04/1988', '99 Yrs From 07/05/2013',\n",
       "       '99 Yrs From 17/09/2013', '100 Yrs From 01/03/1986',\n",
       "       '99 Yrs From 11/05/1978', '999 Yrs From 01/01/1997',\n",
       "       '99 Yrs From 15/04/2014', '104 Yrs From 01/02/1986',\n",
       "       '99 Yrs From 01/05/1986', '103 Yrs From 01/12/1985',\n",
       "       '99 Yrs From 22/07/2013', '99 Yrs From 22/10/1973',\n",
       "       '99 Yrs From 23/04/2014', '99 Yrs From 01/04/1987',\n",
       "       '99 Yrs From 30/10/2013', '99 Yrs From 12/08/2013',\n",
       "       '99 Yrs From 10/12/2013', '99 Yrs From 03/03/1973',\n",
       "       '99 Yrs From 10/06/2014', '99 Yrs From 03/03/2014',\n",
       "       '99 Yrs From 29/07/2014', '99 Years Leasehold',\n",
       "       '99 Yrs From 14/04/2014', '99 Yrs From 01/08/2005',\n",
       "       '999 Years Leasehold 02/06/1882', '999 Years Leasehold',\n",
       "       '99 Yrs From 24/09/2012', '103 Yrs From 03/10/2011', 'Freehols',\n",
       "       '99 Yrs From 05/11/2014', '99 Yrs From 19/05/2014',\n",
       "       '99 Yrs From 28/04/2014', '99 Yrs From 01/01/1953',\n",
       "       '99 Yrs From 11/04/1995', '99 Yrs From 02/06/2014',\n",
       "       '99 Yrs From 25/08/2014', 'N.A.', '99 Yrs Fr 17/3/1982',\n",
       "       '99 Yrs From 21/07/2014', '99 Yrs From 19/09/2005',\n",
       "       '99 Yrs From 17/11/2014', '99 Yrs From 28/06/1951',\n",
       "       '99 Yrs From 12/01/2015', '99 Yrs From 12/05/2014',\n",
       "       '99 Yrs From 08/12/2014', '99 Yrs From 27/04/2015',\n",
       "       '99 Yrs From 27/10/2007', '99 Yrs From 13/10/2014',\n",
       "       '99 Yrs From 09/01/2015', '99 Yrs From 29/06/2015',\n",
       "       '103 Yrs From 17/09/1974', '99 Yrs From 25/02/2015',\n",
       "       '99 Yrs From 21/09/2015', '99 Yrs From 11/07/1949',\n",
       "       '99 Yrs From 09/06/2015', '99 Yrs From 05/05/2015',\n",
       "       '99 Yrs From 23/09/2013', '99 Yrs From 08/08/2007',\n",
       "       '99 Yrs From 25/05/2015', '99 Yrs From 03/08/2015',\n",
       "       '99 Yrs From 01/03/1973', '99 Yrs From 05/02/2016',\n",
       "       '99 Yrs From 11/11/2015', '99 Yrs From 28/09/2015',\n",
       "       '99 Yrs From 11/04/1973', '999 Yrs From 04/12/1883',\n",
       "       '99 Yrs From 17/12/1996', '99 Yrs From 09/03/2016',\n",
       "       '99 Yrs From 25/05/2016', '99 Yrs From 27/11/2015',\n",
       "       '9999 Yrs From 01/07/1961', '99 Yrs From 10/07/1978',\n",
       "       '99 Yrs From 31/08/2005', '99 Yrs From 18/04/2016',\n",
       "       '99 Yrs From 15/02/2016', '99 Yrs From 04/10/2007',\n",
       "       '102 Yrs From 01/02/1978', '99 Yrs From 06/07/2005',\n",
       "       '99 Yrs From 26/06/2007', '999 Yrs From 27/11/1884',\n",
       "       '99 Yrs From 01/12/1974', '999 Yrs', '999 Yrs From 06/08/1830',\n",
       "       '999 Yrs From 27/05/1885', '999 Yrs From 01/01/1885',\n",
       "       '99 Yrs From 01/01/1994', '99 Yrs From 10/05/1978',\n",
       "       '99 Yrs From 01/06/1970', '999 Yrs From 01/07/1967',\n",
       "       '99 Yrs From 01/09/1977', '99 Yrs From 01/02/1978',\n",
       "       '92 Yrs From 30/06/1989', '99 Yrs From 19/04/1949',\n",
       "       '99 Yrs From 13/03/1952', '99 Yrs From 01/06/1971',\n",
       "       '99 Yrs From 01/05/1978', '99 Yrs From 01/04/1994',\n",
       "       '99 Yrs From 21/03/1983', '99 Yrs From 01/08/1973',\n",
       "       '99 Yrs From 07/06/1994', '99 Yrs From 24/05/1978',\n",
       "       '99 Yrs From 01/07/1985', '99 Yrs From 16/11/1993',\n",
       "       '99 Yrs From 16/06/1995', '99 Yrs From 01/08/1971',\n",
       "       '99 Yrs Fr 21/4/1994', '99 Yrs From 21/10/1995',\n",
       "       '99 Yrs From 08/04/1994', '99 Yrs From 01/04/1995',\n",
       "       '99 Yrs From 21/11/1995', '99 Yrs From 15/05/1978',\n",
       "       '999 Yrs From 01/09/1876 ', '99 Yrs From 08/12/1994',\n",
       "       '99 Yrs From 05/08/1994', '70 Yrs From 19/08/1964 ',\n",
       "       '953 Yrs From 01/06/1931 ', '99 Yrs From 06/03/1994',\n",
       "       '99 Yrs From 15/08/1973', '99 Yrs From 09/11/1976',\n",
       "       '99 Yrs From 26/02/1952', '99 Yrs From 30/10/1995',\n",
       "       '60 Yrs From 27/03/1961', '99 Yrs From 08/05/1978',\n",
       "       '99 Yrs Fr 22/9/1997', '99 Yrs From 01/03/1949',\n",
       "       '100 Yrs From 01/03/1985', '99 Yrs From 01/01/1985',\n",
       "       '999 Yrs From 01/07/1964 ', '999 Yrs From 01/01/1954 ',\n",
       "       '999 Yrs From 01/10/1964', '99 Yrs From 15/07/1949',\n",
       "       '99 Yrs From 01/11/1995', '999 Yrs From 17/12/1883',\n",
       "       '99 Yrs From 19/04/1995', '99 Yrs From 17/05/1978',\n",
       "       '99 Yrs From 01/07/1950', '99 Yrs From 20/04/1949',\n",
       "       '99 Yrs From 07/08/1979', '99 Yrs From 05/04/1973',\n",
       "       '99 Yrs From 28/07/1989', '99 Yrs From 12/04/1954',\n",
       "       '999 Yrs From 02/01/1960', '999 Yrs From 23/04/1963',\n",
       "       '9999 Yrs From 01/01/1959', '99 Yrs From 06/08/1973',\n",
       "       '99 Yrs From 10/04/1973', '99 Yrs From 22/04/1949',\n",
       "       '103 Yrs From 16/10/2003', '999 Yrs From 01/01/1964',\n",
       "       '99 Yrs From 26/05/1978', '99 Yrs From 02/04/1973',\n",
       "       '99 Yrs From 14/04/1949', '99 Yrs From 21/11/1973',\n",
       "       '99 Yrs From 09/04/1973', '999 Yrs From 01/06/1965',\n",
       "       '99 Yrs From 08/08/1973', '999 Yrs From 27/12/1875 ',\n",
       "       '99 Yrs From 23/03/1973', '103 Yrs Fr 16/10/2003',\n",
       "       '999 Yrs From 01/09/1959', '999 Yrs From 11/06/1827',\n",
       "       '999 Yrs From 31/10/1919', '99 Yrs From 12/08/199',\n",
       "       '99 Yrs From 01/09/199', '99 Yrs From 18/12/199',\n",
       "       '999 Yrs From 01/08/1885', '99 Yrs From 22/09/199',\n",
       "       '99 Yrs From 06/12/199', '99 Yrs From 18/07/199',\n",
       "       '99 Yrs From 30/05/199', '999999 Yrs From 01/01/1961',\n",
       "       '999999 Yrs From 01/01/1960', '99 Yrs From 29/11/200',\n",
       "       '99 Yrs From 23/05/1997', '999 Yrs Fr 25/09/1882',\n",
       "       '99 Yrs From 18/03/2004 ', '99 Yrs From 03/01/2005 ',\n",
       "       '999 Yrs Fr 23/03/1885', '99 Yrs From 05/09/1940',\n",
       "       '99 Yrs Fr 20/6/2000', '999 Yrs From 01/01/1983',\n",
       "       '999 Yrs Fr 21/06/1877', '99 Yrs From 21/06/2006 ',\n",
       "       '999 Yrs From 01/09/1958', '99 Yrs From 07/09/1973',\n",
       "       '99 Yrs From 16/05/1978', '99 Yrs From 20/08/1938',\n",
       "       '99 Yrs From 22/08/1978', '999 Yrs From 05/11/1957',\n",
       "       '999 Yrs From 01/05/1971', '999 Yrs From 01/04/1961',\n",
       "       '99 Yrs From 30/06/2005', '999999 Yrs From 01/01/1956',\n",
       "       '99 Yrs From 30/03/1973', '99 Yrs From 20/06/200',\n",
       "       '99 Yrs From 12/09/1973', '99 Yrs From 17/07/1997',\n",
       "       '99 Yrs From 30/04/1973', '99 Yrs From 09/10/199',\n",
       "       '99 Yrs From 16/07/200', '99 Yrs From 22/11/200',\n",
       "       '99 Yrs From 24/04/199', '99 Yrs From 04/12/199',\n",
       "       '99 Yrs From 09/10/200', '99 Yrs From 02/10/200',\n",
       "       '99 Yrs From 14/08/200', '99 Yrs From 12/09/200',\n",
       "       '99 Yrs From 20/01/1997', '99 Yrs From 01/12/199',\n",
       "       '99 Yrs From 12/06/199', '99 Yrs From 05/01/200',\n",
       "       '99 Yrs From 13/02/199', '99 Yrs From 17/05/199',\n",
       "       '999 Yrs From 21/06/18', '99 Yrs From 07/11/199',\n",
       "       '99 Yrs From 18/04/200', '99 Yrs From 22/03/199',\n",
       "       '99 Yrs From 23/07/199', '99 Yrs From 01/03/199',\n",
       "       '99 Yrs From 16/02/199', '99 Yrs From 22/03/1973',\n",
       "       '99 Yrs From 12/09/2005', '99 Yrs From 28/11/2005',\n",
       "       '999999 Yrs From 21/08/2008', '99 Yrs From 25/09/1973',\n",
       "       '999999 Yrs From 01/01/1962', '99 Yrs From 25/01/2008',\n",
       "       '99 Yrs From 14/09/2005', '999 Yrs From 18/12/1957',\n",
       "       '99 Yrs From 20/02/2006', '99 Yrs From 21/03/1973',\n",
       "       '99 Yrs From 13/06/2005', '99 Yrs From 02/10/2007',\n",
       "       '99 Yrs From 01/11/2006', '103 Yrs From 03/02/1975',\n",
       "       '99 Yrs From 28/09/2016', '99 Yrs From 30/05/2016',\n",
       "       '99 Yrs From 18/04/1973', '999 Yrs From 01/01/2012',\n",
       "       '99 Yrs From 29/08/2016'], dtype=object)"
      ]
     },
     "execution_count": 47,
     "metadata": {},
     "output_type": "execute_result"
    }
   ],
   "source": [
    "train_data_pri.tenure.unique()"
   ]
  },
  {
   "cell_type": "code",
   "execution_count": 48,
   "metadata": {
    "collapsed": false
   },
   "outputs": [
    {
     "data": {
      "text/plain": [
       "array(['99 Yrs From 08/04/2010', 'Freehold', '99 Yrs From 20/10/2010',\n",
       "       '999 Yrs From 21/06/1877', '99 Yrs From 01/03/1991',\n",
       "       '999 Yrs From 01/01/1954', '99 Yrs From 07/12/2011',\n",
       "       '99 Yrs From 26/06/1996', '99 Yrs From 17/03/1982',\n",
       "       '99 Yrs From 10/09/2007', '99 Yrs From 12/08/1996',\n",
       "       '99 Yrs From 24/06/1995', '99 Yrs From 24/04/1996',\n",
       "       '99 Yrs From 26/02/2007', '99 Yrs From 31/12/2007',\n",
       "       '99 Yrs From 16/08/1999', '99 Yrs From 15/03/2006',\n",
       "       '99 Yrs From 20/01/2004', '99 Yrs From 07/01/2008',\n",
       "       '99 Yrs From 10/08/2011', '999 Yrs From 01/05/1874',\n",
       "       '99 Yrs From 07/06/2011', '99 Yrs From 06/01/2010',\n",
       "       '99 Yrs From 08/03/1982', '99 Yrs From 16/06/2010',\n",
       "       '99 Yrs From 20/10/1993', '99 Yrs From 17/03/1997',\n",
       "       '99 Yrs From 11/07/2011', '103 Yrs From 18/08/2009',\n",
       "       '99 Yrs From 11/12/2007', '99 Yrs From 30/05/2011',\n",
       "       '999 Yrs From 01/01/1955', '99 Yrs From 16/02/1998',\n",
       "       '99 Yrs From 21/06/2001', '99 Yrs From 03/03/1997',\n",
       "       '99 Yrs From 11/02/2009', '999 Yrs From 12/10/1885',\n",
       "       '99 Yrs From 09/04/1998', '99 Yrs From 29/11/2000',\n",
       "       '99 Yrs From 09/03/1994', '99 Yrs From 28/01/2008',\n",
       "       '99 Yrs From 28/07/2010', '99 Yrs From 29/01/2002',\n",
       "       '999 Yrs From 19/06/1885', '99 Yrs From 13/02/1995',\n",
       "       '99 Yrs From 04/12/1996', '99 Yrs From 10/08/2005',\n",
       "       '99 Yrs From 13/09/2010', '999 Yrs From 02/10/1876',\n",
       "       '99 Yrs From 16/12/1997', '99 Yrs From 18/04/2005',\n",
       "       '99 Yrs From 27/01/1993', '999 Yrs From 25/09/1882',\n",
       "       '99 Yrs From 25/01/2012', '999 Yrs From 01/04/1878',\n",
       "       '99 Yrs From 01/05/1993', '99 Yrs From 12/08/2002',\n",
       "       '99 Yrs From 30/05/1994', '99 Yrs From 31/05/1993',\n",
       "       '99 Yrs From 07/04/2008', '99 Yrs From 06/03/2012',\n",
       "       '99 Yrs From 01/03/2003', '99 Yrs From 08/11/2001',\n",
       "       '99 Yrs From 23/06/1995', '99 Yrs From 01/06/2011',\n",
       "       '99 Yrs From 01/12/1994', '99 Yrs From 18/02/2008',\n",
       "       '99 Yrs From 12/06/1996', '99 Yrs From 02/01/2001',\n",
       "       '99 Yrs From 01/12/1991', '99 Yrs From 30/11/2010',\n",
       "       '99 Yrs From 21/06/2006', '99 Yrs From 21/04/1994',\n",
       "       '999 Yrs From 02/06/1882', '99 Yrs From 17/05/1997',\n",
       "       '999 Yrs From 17/09/1885', '99 Yrs From 17/08/2001',\n",
       "       '99 Yrs From 06/12/2010', '999 Yrs From 01/01/1879',\n",
       "       '99 Yrs From 20/07/2007', '99 Yrs From 01/06/1990',\n",
       "       '99 Yrs From 20/08/1982', '999 Yrs From 01/10/1827',\n",
       "       '999 Yrs From 19/02/1883', '99 Yrs From 06/09/1996',\n",
       "       '99 Yrs From 07/11/1995', '99 Yrs From 01/03/1995',\n",
       "       '99 Yrs From 20/12/2010', '99 Yrs From 06/12/1997',\n",
       "       '99 Yrs From 07/09/2011', '99 Yrs From 26/08/2011',\n",
       "       '99 Yrs From 11/08/2010', '999 Yrs From 01/09/1876',\n",
       "       '99 Yrs From 01/08/1980', '99 Yrs From 18/09/1979',\n",
       "       '99 Yrs From 01/10/1995', '99 Yrs From 03/10/2011',\n",
       "       '99 Yrs From 12/09/2000', '999 Yrs From 01/07/1841',\n",
       "       '99 Yrs From 10/01/2011', '99 Yrs From 26/09/2011',\n",
       "       '99 Yrs From 24/10/1997', '99 Yrs From 12/04/2007',\n",
       "       '99 Yrs From 29/08/2011', '999 Yrs From 11/06/1883',\n",
       "       '99 Yrs From 21/12/2012', '99 Yrs From 23/11/2009',\n",
       "       '99 Yrs From 13/12/1996', '99 Yrs From 22/03/1997',\n",
       "       '99 Yrs From 01/12/1997', '99 Yrs From 10/08/2010',\n",
       "       '99 Yrs From 01/09/1992', '99 Yrs From 22/01/2003',\n",
       "       '99 Yrs From 25/04/2012', '99 Yrs From 22/09/2008',\n",
       "       '956 Yrs From 27/05/1928', '99 Yrs From 26/03/2008',\n",
       "       '99 Yrs From 05/03/2004', '99 Yrs From 06/02/2012',\n",
       "       '946 Yrs From 27/11/1937', '99 Yrs From 07/01/2002',\n",
       "       '99 Yrs From 13/12/2000', '99 Yrs From 11/07/2006',\n",
       "       '99 Yrs From 22/11/2002', '99 Yrs From 28/02/1996',\n",
       "       '99 Yrs From 14/09/2010', '99 Yrs From 07/06/1996',\n",
       "       '99 Yrs From 28/04/2004', '99 Yrs From 06/10/2000',\n",
       "       '103 Yrs From 28/11/2002', '99 Yrs From 14/03/1997',\n",
       "       '99 Yrs From 03/02/1994', '99 Yrs From 10/04/1982',\n",
       "       '99 Yrs From 15/07/2008', '99 Yrs From 29/06/2011',\n",
       "       '99 Yrs From 17/02/2006', '999 Yrs From 07/05/1879',\n",
       "       '99 Yrs From 11/09/2007', '99 Yrs From 01/09/1991',\n",
       "       '99 Yrs From 01/07/1973', '99 Yrs From 02/03/1998',\n",
       "       '999 Yrs From 01/01/1886', '9999 Yrs From 14/10/1995',\n",
       "       '99 Yrs From 18/11/1991', '99 Yrs From 02/02/2005',\n",
       "       '99 Yrs From 21/11/2011', '999 Yrs From 19/05/1883',\n",
       "       '99 Yrs From 01/12/1993', '99 Yrs From 25/06/2008',\n",
       "       '99 Yrs From 20/06/2000', '99 Yrs From 24/08/2010',\n",
       "       '99 Yrs From 17/08/1979', '99 Yrs From 09/02/2011',\n",
       "       '99 Yrs From 15/06/2011', '99 Yrs From 31/10/2007',\n",
       "       '99 Yrs From 07/09/1996', '99 Yrs From 05/12/2011',\n",
       "       '99 Yrs From 23/08/2010', '99 Yrs From 08/09/2010',\n",
       "       '99 Yrs From 13/03/2008', '99 Yrs From 01/11/1984',\n",
       "       '99 Yrs From 09/03/2011', '99 Yrs From 06/11/1995',\n",
       "       '99 Yrs From 21/08/2012', '99 Yrs From 05/05/1997',\n",
       "       '99 Yrs From 08/01/1979', '99 Yrs From 24/05/2010',\n",
       "       '99 Yrs From 29/10/2001', '99 Yrs From 25/07/2001',\n",
       "       '99 Yrs From 23/07/1991', '99 Yrs From 17/03/2008',\n",
       "       '99 Yrs From 25/03/1968', '99 Yrs From 09/01/2012',\n",
       "       '99 Yrs From 09/10/1996', '99 Yrs From 23/07/2002',\n",
       "       '99 Yrs From 18/07/1997', '999 Yrs From 01/01/1956',\n",
       "       '99 Yrs From 27/06/2007', '99 Yrs From 30/04/2000',\n",
       "       '99 Yrs From 21/03/2006', '99 Yrs From 03/08/2010',\n",
       "       '99 Yrs From 01/05/1994', '99 Yrs From 02/10/2001',\n",
       "       '99 Yrs From 12/08/1997', '929 Yrs From 01/01/1953',\n",
       "       '99 Yrs From 19/03/2001', '99 Yrs From 01/11/1975',\n",
       "       '999 Yrs From 02/12/1878', '99 Yrs From 16/06/1980',\n",
       "       '102 Yrs From 01/01/1977', '99 Yrs From 26/11/2009',\n",
       "       '99 Yrs From 01/08/2011', '99 Yrs From 20/02/2012',\n",
       "       '999 Yrs From 27/12/1875', '99 Yrs From 03/05/2004',\n",
       "       '99 Yrs From 04/11/2011', '99 Yrs From 15/11/1977',\n",
       "       '99 Yrs From 14/11/1996', '99 Yrs From 10/05/2010',\n",
       "       '99 Yrs From 16/07/2002', '99 Yrs From 11/10/2005',\n",
       "       '99 Yrs From 02/04/1998', '99 Yrs From 25/02/1998',\n",
       "       '99 Yrs From 03/09/2012', '99 Yrs From 09/01/2006',\n",
       "       '99 Yrs From 06/02/2001', '99 Yrs From 25/08/2008',\n",
       "       '99 Yrs From 14/10/2005', '99 Yrs From 24/04/2012',\n",
       "       '99 Yrs From 03/01/2006', '99 Yrs From 14/08/2000',\n",
       "       '99 Yrs From 01/01/1972', '99 Yrs From 15/09/2005',\n",
       "       '99 Yrs From 01/12/1975', '99 Yrs From 07/02/2006',\n",
       "       '99 Yrs From 07/12/2009', '99 Yrs From 09/09/1999',\n",
       "       '99 Yrs From 10/03/2008', '999 Yrs From 10/08/1878',\n",
       "       '103 Yrs From 01/05/1974', '99 Yrs From 26/02/2008',\n",
       "       '99 Yrs From 04/06/2001', '99 Yrs From 10/02/2001',\n",
       "       '99 Yrs From 08/03/2006', '99 Yrs From 21/12/2009',\n",
       "       '99 Yrs From 02/06/1970', '99 Yrs From 03/01/2005',\n",
       "       '99 Yrs From 08/04/1993', '99 Yrs From 05/01/2004',\n",
       "       '99 Yrs From 14/09/2011', '999 Yrs From 24/11/1995',\n",
       "       '99 Yrs From 01/09/1993', '99 Yrs From 03/01/2007',\n",
       "       '99 Yrs From 01/08/1994', '99 Yrs From 21/01/2002',\n",
       "       '99 Yrs From 25/01/2011', '99 Yrs From 03/08/2006',\n",
       "       '99 Yrs From 20/03/1998', '99 Yrs From 27/07/2007',\n",
       "       '99 Yrs From 18/12/1997', '999 Yrs From 01/01/1953',\n",
       "       '99 Yrs From 08/05/2001', '99 Yrs From 30/08/1976',\n",
       "       '99 Yrs From 20/09/2010', '99 Yrs From 23/10/2006',\n",
       "       '85 Yrs From 01/08/1990', '9999 Yrs From 01/01/1961',\n",
       "       '99 Yrs From 09/06/2007', '99 Yrs From 15/03/2011',\n",
       "       '99 Yrs From 26/02/2004', '99 Yrs From 09/10/2000',\n",
       "       '99 Yrs From 18/03/2004', '99 Yrs From 01/09/1976',\n",
       "       '999 Yrs From 06/07/1885', '99 Yrs From 16/06/1995',\n",
       "       '99 Yrs From 09/12/2008', '999 Yrs From 14/02/1881',\n",
       "       '99 Yrs From 02/06/2010', '99 Yrs From 02/02/1998',\n",
       "       '99 Yrs From 08/02/2010', '99 Yrs From 06/02/2008',\n",
       "       '999 Yrs From 16/10/1884', '99 Yrs From 08/08/1994',\n",
       "       '99 Yrs From 10/06/1996', '99 Yrs From 22/09/1997',\n",
       "       '999 Yrs From 01/07/1964', '99 Yrs From 13/03/2006',\n",
       "       '99 Yrs From 01/02/1973', '999 Yrs From 15/08/1884',\n",
       "       '99 Yrs From 28/08/2012', '99 Yrs From 04/03/2013',\n",
       "       '99 Yrs From 16/04/2012', '99 Yrs From 14/12/1996',\n",
       "       '99 Yrs From 01/01/1995', '999 Yrs From 10/06/1885',\n",
       "       '999 Yrs From 01/06/1875', '102 Yrs From 01/02/1978',\n",
       "       '99 Yrs From 11/04/2006', '102 Yrs From 01/08/1996',\n",
       "       '99 Yrs From 27/01/2006', '99 Yrs From 01/10/1983',\n",
       "       '99 Yrs From 07/02/2011', '99 Yrs From 11/08/1997',\n",
       "       '99 Yrs From 31/01/1997', '99 Yrs From 20/06/1995',\n",
       "       '999 Yrs From 16/08/1877', '999 Yrs From 14/02/1991',\n",
       "       '99 Yrs From 03/07/2012', '99 Yrs From 01/08/1976',\n",
       "       '999 Yrs From 21/02/1885', '999 Yrs From 22/08/1883',\n",
       "       '999 Yrs From 09/01/1883', '946 Yrs From 01/01/1938',\n",
       "       '99 Yrs From 03/01/2011', '99 Yrs From 19/03/2012',\n",
       "       '99 Yrs From 07/11/2005', '947 Yrs From 05/10/1934',\n",
       "       '998 Yrs From 12/10/1885', '99 Yrs From 02/07/2004',\n",
       "       '999 Yrs From 02/12/1885', '99 Yrs From 12/03/2007',\n",
       "       '999 Yrs From 22/09/1885', '99 Yrs From 07/05/2012',\n",
       "       '9999 Yrs From 02/06/1995', '99 Yrs From 03/12/2002',\n",
       "       '999 Yrs From 29/05/1885', '99 Yrs From 11/03/1999',\n",
       "       '99 Yrs From 03/05/1994', '99 Yrs From 05/12/1994',\n",
       "       '103 Yrs From 23/04/2009', '99 Yrs From 01/10/2012',\n",
       "       '99 Yrs From 21/06/1995', '99 Yrs From 31/01/2004',\n",
       "       '99 Yrs From 04/08/1995', '99 Yrs From 25/05/2012',\n",
       "       '99 Yrs From 31/05/1978', '99 Yrs From 19/03/1997',\n",
       "       '99 Yrs From 01/04/2010', '99 Yrs From 08/09/1992',\n",
       "       '99 Yrs From 13/09/2004', '99 Yrs From 20/06/2003',\n",
       "       '99 Yrs From 10/11/1981', '99 Yrs From 07/11/2012',\n",
       "       '99 Yrs From 12/09/2012', '999 Yrs From 06/10/1885'], dtype=object)"
      ]
     },
     "execution_count": 48,
     "metadata": {},
     "output_type": "execute_result"
    }
   ],
   "source": [
    "test_data_pri.tenure.unique()"
   ]
  },
  {
   "cell_type": "code",
   "execution_count": null,
   "metadata": {
    "collapsed": true
   },
   "outputs": [],
   "source": []
  },
  {
   "cell_type": "code",
   "execution_count": 49,
   "metadata": {
    "collapsed": false
   },
   "outputs": [
    {
     "data": {
      "text/plain": [
       "array(['Resale', 'New Sale', 'Sub Sale'], dtype=object)"
      ]
     },
     "execution_count": 49,
     "metadata": {},
     "output_type": "execute_result"
    }
   ],
   "source": [
    "train_data_pri.type_of_sale.unique()"
   ]
  },
  {
   "cell_type": "code",
   "execution_count": 50,
   "metadata": {
    "collapsed": false
   },
   "outputs": [
    {
     "data": {
      "text/plain": [
       "array(['Resale'], dtype=object)"
      ]
     },
     "execution_count": 50,
     "metadata": {},
     "output_type": "execute_result"
    }
   ],
   "source": [
    "test_data_pri.type_of_sale.unique()"
   ]
  },
  {
   "cell_type": "code",
   "execution_count": 52,
   "metadata": {
    "collapsed": false
   },
   "outputs": [
    {
     "data": {
      "text/plain": [
       "type_of_sale\n",
       "New Sale    216274\n",
       "Resale      204797\n",
       "Sub Sale     36229\n",
       "Name: price, dtype: int64"
      ]
     },
     "execution_count": 52,
     "metadata": {},
     "output_type": "execute_result"
    }
   ],
   "source": [
    "train_data_pri.groupby(['type_of_sale'])['price'].count()"
   ]
  },
  {
   "cell_type": "code",
   "execution_count": null,
   "metadata": {
    "collapsed": true
   },
   "outputs": [],
   "source": []
  },
  {
   "cell_type": "code",
   "execution_count": 53,
   "metadata": {
    "collapsed": false
   },
   "outputs": [
    {
     "data": {
      "text/plain": [
       "array([27, 15,  4, 19, 21, 16, 11,  1, 18, 12,  2,  8, 20, 23, 25, 10, 17,\n",
       "        9, 28,  5, 14,  3, 22, 26, 13,  7,  6])"
      ]
     },
     "execution_count": 53,
     "metadata": {},
     "output_type": "execute_result"
    }
   ],
   "source": [
    "train_data_pri.postal_district.unique()"
   ]
  },
  {
   "cell_type": "code",
   "execution_count": 55,
   "metadata": {
    "collapsed": false
   },
   "outputs": [
    {
     "data": {
      "text/plain": [
       "array([75, 43,  9, 55, 59, 76, 46, 30,  5, 52, 32,  7, 20, 42, 57, 21, 66,\n",
       "       73, 25, 50, 53,  1, 23, 27, 65, 54, 68, 80, 58, 12, 41, 16, 24, 48,\n",
       "       39, 64, 60, 51, 26, 44, 78, 47, 67, 14, 35, 79, 15, 10, 45, 28, 40,\n",
       "       38, 11, 13,  8, 56, 36, 31, 22, 29, 34,  6, 19, 77, 82, 18, 61, 17,\n",
       "       63, 33, 49, 37,  4])"
      ]
     },
     "execution_count": 55,
     "metadata": {},
     "output_type": "execute_result"
    }
   ],
   "source": [
    "train_data_pri.postal_sector.unique()"
   ]
  },
  {
   "cell_type": "code",
   "execution_count": 56,
   "metadata": {
    "collapsed": false
   },
   "outputs": [
    {
     "data": {
      "text/plain": [
       "array([759151, 439893,  98656, ..., 466793, 266178, 266180])"
      ]
     },
     "execution_count": 56,
     "metadata": {},
     "output_type": "execute_result"
    }
   ],
   "source": [
    "train_data_pri.postal_code.unique()"
   ]
  },
  {
   "cell_type": "code",
   "execution_count": 57,
   "metadata": {
    "collapsed": false
   },
   "outputs": [
    {
     "data": {
      "text/plain": [
       "array(['North Region', 'Central Region', 'North East Region',\n",
       "       'East Region', 'West Region'], dtype=object)"
      ]
     },
     "execution_count": 57,
     "metadata": {},
     "output_type": "execute_result"
    }
   ],
   "source": [
    "train_data_pri.region.unique()"
   ]
  },
  {
   "cell_type": "code",
   "execution_count": 5,
   "metadata": {
    "collapsed": false
   },
   "outputs": [
    {
     "name": "stderr",
     "output_type": "stream",
     "text": [
      "/home/naval_kumar99/anaconda3/envs/py27/lib/python2.7/site-packages/mpl_toolkits/basemap/__init__.py:1698: MatplotlibDeprecationWarning: The axesPatch function was deprecated in version 2.1. Use Axes.patch instead.\n",
      "  limb = ax.axesPatch\n",
      "/home/naval_kumar99/anaconda3/envs/py27/lib/python2.7/site-packages/mpl_toolkits/basemap/__init__.py:3260: MatplotlibDeprecationWarning: The ishold function was deprecated in version 2.0.\n",
      "  b = ax.ishold()\n",
      "/home/naval_kumar99/anaconda3/envs/py27/lib/python2.7/site-packages/mpl_toolkits/basemap/__init__.py:3269: MatplotlibDeprecationWarning: axes.hold is deprecated.\n",
      "    See the API Changes document (http://matplotlib.org/api/api_changes.html)\n",
      "    for more details.\n",
      "  ax.hold(b)\n"
     ]
    },
    {
     "data": {
      "image/png": "[encoded data removed]",
      "text/plain": [
       "<Figure size 1440x720 with 1 Axes>"
      ]
     },
     "metadata": {},
     "output_type": "display_data"
    }
   ],
   "source": [
    "from mpl_toolkits.basemap import Basemap\n",
    "cols = ['latitude','longitude']\n",
    "latlong = train_data_pri[cols]\n",
    "\n",
    "#latlong = latlong.drop(latlong[(latlong.latitude>1.4) & (latlong.latitude<1.6) & (latlong.longitude>103.6) & (latlong.longitude<103.72)].index)\n",
    "fig = plt.figure(figsize=(20, 10))\n",
    "#m = Basemap(projection='mill',llcrnrlat=20,urcrnrlat=50,\\\n",
    "                #llcrnrlon=100,urcrnrlon=150,resolution='c')\n",
    "#m = Basemap(projection='merc',llcrnrlat=1.4,urcrnrlat=1.6,\n",
    " #           llcrnrlon=103.6, urcrnrlon=103.72, resolution='i', area_thresh=10, lat_0=1.5, lon_0=103)\n",
    "m = Basemap(projection='merc',llcrnrlat=1.2,urcrnrlat=1.5,\\\n",
    "            llcrnrlon=103.6, urcrnrlon=104, resolution='i', area_thresh=10, lat_0=1.5, lon_0=103)\n",
    " \n",
    "m.drawcoastlines()\n",
    "m.drawcountries()\n",
    "m.drawstates()\n",
    "#m.fillcontinents(color='#04BAE3',lake_color='#FFFFFF')\n",
    "m.drawmapboundary(fill_color='#FFFFFF')\n",
    "\n",
    "lons = latlong['longitude'].values\n",
    "lats = latlong['latitude'].values\n",
    "x,y = m(lons, lats)\n",
    "#x,y=m([103.714098,103.714216],[1.348241,1.347004])\n",
    "\n",
    " \n",
    "\n",
    "# r = red; o = circle marker (see: http://matplotlib.org/api/pyplot_api.html#matplotlib.pyplot.plot)\n",
    "m.plot(x, y, 'ro', markersize=4)\n",
    "\n",
    "\n",
    "    \n",
    "plt.title(\"Geo Plotting\")\n",
    "plt.show()"
   ]
  },
  {
   "cell_type": "code",
   "execution_count": 6,
   "metadata": {
    "collapsed": false
   },
   "outputs": [
    {
     "data": {
      "image/png": "[encoded data removed]",
      "text/plain": [
       "<Figure size 1440x720 with 1 Axes>"
      ]
     },
     "metadata": {},
     "output_type": "display_data"
    }
   ],
   "source": [
    "from mpl_toolkits.basemap import Basemap\n",
    "cols = ['latitude','longitude']\n",
    "#latlong = train_data_hdb[cols]\n",
    "fig = plt.figure(figsize=(20, 10))\n",
    "#m = Basemap(projection='mill',llcrnrlat=20,urcrnrlat=50,\\\n",
    "                #llcrnrlon=100,urcrnrlon=150,resolution='c')\n",
    "m = Basemap(projection='merc',llcrnrlat=1.2,urcrnrlat=1.5,\n",
    "            llcrnrlon=103.6, urcrnrlon=104, resolution='i', area_thresh=100, lat_0=1.5, lon_0=103)\n",
    "m.drawcoastlines()\n",
    "m.drawcountries()\n",
    "m.drawstates()\n",
    "#m.fillcontinents(color='#04BAE3',lake_color='#FFFFFF')\n",
    "m.drawmapboundary(fill_color='#FFFFFF')\n",
    "\n",
    "lons = test_data_pri['longitude'].values\n",
    "lats = test_data_pri['latitude'].values\n",
    "x,y = m(lons, lats)\n",
    "\n",
    "# r = red; o = circle marker (see: http://matplotlib.org/api/pyplot_api.html#matplotlib.pyplot.plot)\n",
    "m.plot(x, y, 'ro', markersize=4)\n",
    "\n",
    "\n",
    "    \n",
    "plt.title(\"Geo Plotting\")\n",
    "plt.show()"
   ]
  },
  {
   "cell_type": "code",
   "execution_count": 7,
   "metadata": {
    "collapsed": false
   },
   "outputs": [
    {
     "name": "stderr",
     "output_type": "stream",
     "text": [
      "/home/naval_kumar99/anaconda3/envs/py27/lib/python2.7/site-packages/matplotlib/axes/_axes.py:6462: UserWarning: The 'normed' kwarg is deprecated, and has been replaced by the 'density' kwarg.\n",
      "  warnings.warn(\"The 'normed' kwarg is deprecated, and has been \"\n"
     ]
    },
    {
     "name": "stdout",
     "output_type": "stream",
     "text": [
      "\n",
      " mu = 1328444.13 and sigma = 1505682.41\n",
      "\n"
     ]
    },
    {
     "data": {
      "image/png": "[encoded data removed]",
      "text/plain": [
       "<Figure size 432x288 with 1 Axes>"
      ]
     },
     "metadata": {},
     "output_type": "display_data"
    },
    {
     "data": {
      "image/png": "[encoded data removed]",
      "text/plain": [
       "<Figure size 432x288 with 1 Axes>"
      ]
     },
     "metadata": {},
     "output_type": "display_data"
    },
    {
     "name": "stdout",
     "output_type": "stream",
     "text": [
      "Skewness: 18.042802\n",
      "Kurtosis: 1275.152772\n"
     ]
    }
   ],
   "source": [
    "sns.distplot(train_data_pri['price'] , fit=norm);\n",
    "\n",
    "# Get the fitted parameters used by the function\n",
    "(mu, sigma) = norm.fit(train_data_pri['price'])\n",
    "print( '\\n mu = {:.2f} and sigma = {:.2f}\\n'.format(mu, sigma))\n",
    "plt.legend(['Normal dist. ($\\mu=$ {:.2f} and $\\sigma=$ {:.2f} )'.format(mu, sigma)],\n",
    "            loc='best')\n",
    "plt.ylabel('Frequency')\n",
    "plt.title('ReSalePrice distribution')\n",
    "\n",
    "fig = plt.figure()\n",
    "res = stats.probplot(train_data_pri['price'], plot=plt)\n",
    "plt.show()\n",
    "\n",
    "print(\"Skewness: %f\" % train_data_pri['price'].skew())\n",
    "print(\"Kurtosis: %f\" % train_data_pri['price'].kurt())"
   ]
  },
  {
   "cell_type": "code",
   "execution_count": 8,
   "metadata": {
    "collapsed": false
   },
   "outputs": [
    {
     "data": {
      "text/plain": [
       "count    4.573000e+05\n",
       "mean     1.328444e+06\n",
       "std      1.505684e+06\n",
       "min      1.200000e+01\n",
       "25%      7.150000e+05\n",
       "50%      9.600000e+05\n",
       "75%      1.420000e+06\n",
       "max      2.013394e+08\n",
       "Name: price, dtype: float64"
      ]
     },
     "execution_count": 8,
     "metadata": {},
     "output_type": "execute_result"
    }
   ],
   "source": [
    "train_data_pri['price'].describe()"
   ]
  },
  {
   "cell_type": "code",
   "execution_count": 27,
   "metadata": {
    "collapsed": false
   },
   "outputs": [
    {
     "name": "stdout",
     "output_type": "stream",
     "text": [
      "all_data size is : (461333, 19)\n"
     ]
    }
   ],
   "source": [
    "ntrain = train_data_pri.shape[0]\n",
    "ntest = test_data_pri.shape[0]\n",
    "y_train = train_data_pri.price.values\n",
    "all_data = pd.concat((train_data_pri, test_data_pri)).reset_index(drop=True)\n",
    "all_data.drop(['price'], axis=1, inplace=True)\n",
    "print(\"all_data size is : {}\".format(all_data.shape))"
   ]
  },
  {
   "cell_type": "code",
   "execution_count": 28,
   "metadata": {
    "collapsed": false
   },
   "outputs": [
    {
     "data": {
      "text/html": [
       "<div>\n",
       "<style scoped>\n",
       "    .dataframe tbody tr th:only-of-type {\n",
       "        vertical-align: middle;\n",
       "    }\n",
       "\n",
       "    .dataframe tbody tr th {\n",
       "        vertical-align: top;\n",
       "    }\n",
       "\n",
       "    .dataframe thead th {\n",
       "        text-align: right;\n",
       "    }\n",
       "</style>\n",
       "<table border=\"1\" class=\"dataframe\">\n",
       "  <thead>\n",
       "    <tr style=\"text-align: right;\">\n",
       "      <th></th>\n",
       "      <th>address</th>\n",
       "      <th>area</th>\n",
       "      <th>completion_date</th>\n",
       "      <th>contract_date</th>\n",
       "      <th>floor_area_sqm</th>\n",
       "      <th>floor_num</th>\n",
       "      <th>latitude</th>\n",
       "      <th>longitude</th>\n",
       "      <th>month</th>\n",
       "      <th>postal_code</th>\n",
       "      <th>postal_district</th>\n",
       "      <th>postal_sector</th>\n",
       "      <th>project_name</th>\n",
       "      <th>property_type</th>\n",
       "      <th>region</th>\n",
       "      <th>tenure</th>\n",
       "      <th>type_of_land</th>\n",
       "      <th>type_of_sale</th>\n",
       "      <th>unit_num</th>\n",
       "    </tr>\n",
       "  </thead>\n",
       "  <tbody>\n",
       "    <tr>\n",
       "      <th>0</th>\n",
       "      <td>5 Jalan Mata Ayer  #01-25</td>\n",
       "      <td>Mandai</td>\n",
       "      <td>2001</td>\n",
       "      <td>01-Jan-2010</td>\n",
       "      <td>95</td>\n",
       "      <td>1.0</td>\n",
       "      <td>1.424622</td>\n",
       "      <td>103.824894</td>\n",
       "      <td>2010-1</td>\n",
       "      <td>759151</td>\n",
       "      <td>27</td>\n",
       "      <td>75</td>\n",
       "      <td>EUPHONY GARDENS</td>\n",
       "      <td>Condominium</td>\n",
       "      <td>North Region</td>\n",
       "      <td>99 Yrs From 25/02/1998</td>\n",
       "      <td>Strata</td>\n",
       "      <td>Resale</td>\n",
       "      <td>25.0</td>\n",
       "    </tr>\n",
       "    <tr>\n",
       "      <th>1</th>\n",
       "      <td>81 Amber Road  #16-06</td>\n",
       "      <td>Marine Parade</td>\n",
       "      <td>Uncompleted</td>\n",
       "      <td>01-Jan-2010</td>\n",
       "      <td>83</td>\n",
       "      <td>16.0</td>\n",
       "      <td>1.302808</td>\n",
       "      <td>103.900986</td>\n",
       "      <td>2010-1</td>\n",
       "      <td>439893</td>\n",
       "      <td>15</td>\n",
       "      <td>43</td>\n",
       "      <td>THE SHORE RESIDENCES</td>\n",
       "      <td>Condominium</td>\n",
       "      <td>Central Region</td>\n",
       "      <td>103 Yrs From 18/08/2009</td>\n",
       "      <td>Strata</td>\n",
       "      <td>New Sale</td>\n",
       "      <td>6.0</td>\n",
       "    </tr>\n",
       "    <tr>\n",
       "      <th>2</th>\n",
       "      <td>42 Keppel Bay Drive  #01-111</td>\n",
       "      <td>Bukit Merah</td>\n",
       "      <td>2004</td>\n",
       "      <td>02-Jan-2010</td>\n",
       "      <td>138</td>\n",
       "      <td>1.0</td>\n",
       "      <td>1.266812</td>\n",
       "      <td>103.814504</td>\n",
       "      <td>2010-1</td>\n",
       "      <td>98656</td>\n",
       "      <td>4</td>\n",
       "      <td>9</td>\n",
       "      <td>CARIBBEAN AT KEPPEL BAY</td>\n",
       "      <td>Condominium</td>\n",
       "      <td>Central Region</td>\n",
       "      <td>99 Yrs From 16/08/1999</td>\n",
       "      <td>Strata</td>\n",
       "      <td>Resale</td>\n",
       "      <td>111.0</td>\n",
       "    </tr>\n",
       "    <tr>\n",
       "      <th>3</th>\n",
       "      <td>9 Amber Gardens  #19-23</td>\n",
       "      <td>Marine Parade</td>\n",
       "      <td>Uncompleted</td>\n",
       "      <td>02-Jan-2010</td>\n",
       "      <td>89</td>\n",
       "      <td>19.0</td>\n",
       "      <td>1.301490</td>\n",
       "      <td>103.898675</td>\n",
       "      <td>2010-1</td>\n",
       "      <td>439958</td>\n",
       "      <td>15</td>\n",
       "      <td>43</td>\n",
       "      <td>ONE AMBER</td>\n",
       "      <td>Condominium</td>\n",
       "      <td>Central Region</td>\n",
       "      <td>Freehold</td>\n",
       "      <td>Strata</td>\n",
       "      <td>Sub Sale</td>\n",
       "      <td>23.0</td>\n",
       "    </tr>\n",
       "    <tr>\n",
       "      <th>4</th>\n",
       "      <td>118 Serangoon Avenue 3  #07-12</td>\n",
       "      <td>Serangoon</td>\n",
       "      <td>2004</td>\n",
       "      <td>03-Jan-2010</td>\n",
       "      <td>108</td>\n",
       "      <td>7.0</td>\n",
       "      <td>1.349432</td>\n",
       "      <td>103.866990</td>\n",
       "      <td>2010-1</td>\n",
       "      <td>554773</td>\n",
       "      <td>19</td>\n",
       "      <td>55</td>\n",
       "      <td>AMARANDA GARDENS</td>\n",
       "      <td>Condominium</td>\n",
       "      <td>North East Region</td>\n",
       "      <td>Freehold</td>\n",
       "      <td>Strata</td>\n",
       "      <td>Resale</td>\n",
       "      <td>12.0</td>\n",
       "    </tr>\n",
       "  </tbody>\n",
       "</table>\n",
       "</div>"
      ],
      "text/plain": [
       "                           address           area completion_date  \\\n",
       "0       5 Jalan Mata Ayer  #01-25          Mandai            2001   \n",
       "1           81 Amber Road  #16-06   Marine Parade     Uncompleted   \n",
       "2    42 Keppel Bay Drive  #01-111     Bukit Merah            2004   \n",
       "3         9 Amber Gardens  #19-23   Marine Parade     Uncompleted   \n",
       "4  118 Serangoon Avenue 3  #07-12       Serangoon            2004   \n",
       "\n",
       "  contract_date  floor_area_sqm  floor_num  latitude   longitude   month  \\\n",
       "0   01-Jan-2010              95        1.0  1.424622  103.824894  2010-1   \n",
       "1   01-Jan-2010              83       16.0  1.302808  103.900986  2010-1   \n",
       "2   02-Jan-2010             138        1.0  1.266812  103.814504  2010-1   \n",
       "3   02-Jan-2010              89       19.0  1.301490  103.898675  2010-1   \n",
       "4   03-Jan-2010             108        7.0  1.349432  103.866990  2010-1   \n",
       "\n",
       "   postal_code  postal_district  postal_sector             project_name  \\\n",
       "0       759151               27             75          EUPHONY GARDENS   \n",
       "1       439893               15             43     THE SHORE RESIDENCES   \n",
       "2        98656                4              9  CARIBBEAN AT KEPPEL BAY   \n",
       "3       439958               15             43                ONE AMBER   \n",
       "4       554773               19             55         AMARANDA GARDENS   \n",
       "\n",
       "  property_type             region                   tenure type_of_land  \\\n",
       "0   Condominium       North Region   99 Yrs From 25/02/1998       Strata   \n",
       "1   Condominium     Central Region  103 Yrs From 18/08/2009       Strata   \n",
       "2   Condominium     Central Region   99 Yrs From 16/08/1999       Strata   \n",
       "3   Condominium     Central Region                 Freehold       Strata   \n",
       "4   Condominium  North East Region                 Freehold       Strata   \n",
       "\n",
       "  type_of_sale  unit_num  \n",
       "0       Resale      25.0  \n",
       "1     New Sale       6.0  \n",
       "2       Resale     111.0  \n",
       "3     Sub Sale      23.0  \n",
       "4       Resale      12.0  "
      ]
     },
     "execution_count": 28,
     "metadata": {},
     "output_type": "execute_result"
    }
   ],
   "source": [
    "all_data.head()"
   ]
  },
  {
   "cell_type": "code",
   "execution_count": 29,
   "metadata": {
    "collapsed": false
   },
   "outputs": [
    {
     "data": {
      "text/html": [
       "<div>\n",
       "<style scoped>\n",
       "    .dataframe tbody tr th:only-of-type {\n",
       "        vertical-align: middle;\n",
       "    }\n",
       "\n",
       "    .dataframe tbody tr th {\n",
       "        vertical-align: top;\n",
       "    }\n",
       "\n",
       "    .dataframe thead th {\n",
       "        text-align: right;\n",
       "    }\n",
       "</style>\n",
       "<table border=\"1\" class=\"dataframe\">\n",
       "  <thead>\n",
       "    <tr style=\"text-align: right;\">\n",
       "      <th></th>\n",
       "      <th>Missing Ratio</th>\n",
       "    </tr>\n",
       "  </thead>\n",
       "  <tbody>\n",
       "    <tr>\n",
       "      <th>unit_num</th>\n",
       "      <td>14.458753</td>\n",
       "    </tr>\n",
       "    <tr>\n",
       "      <th>floor_num</th>\n",
       "      <td>14.458753</td>\n",
       "    </tr>\n",
       "  </tbody>\n",
       "</table>\n",
       "</div>"
      ],
      "text/plain": [
       "           Missing Ratio\n",
       "unit_num       14.458753\n",
       "floor_num      14.458753"
      ]
     },
     "execution_count": 29,
     "metadata": {},
     "output_type": "execute_result"
    }
   ],
   "source": [
    "all_data_na = (all_data.isnull().sum() / len(all_data)) * 100\n",
    "all_data_na = all_data_na.drop(all_data_na[all_data_na == 0].index).sort_values(ascending=False)[:30]\n",
    "missing_data = pd.DataFrame({'Missing Ratio' :all_data_na})\n",
    "missing_data"
   ]
  },
  {
   "cell_type": "code",
   "execution_count": 13,
   "metadata": {
    "collapsed": false
   },
   "outputs": [
    {
     "name": "stdout",
     "output_type": "stream",
     "text": [
      "3523\n",
      "1234\n"
     ]
    }
   ],
   "source": [
    "print len(train_data_pri.project_name.unique())\n",
    "print len(test_data_pri.project_name.unique())"
   ]
  },
  {
   "cell_type": "code",
   "execution_count": 14,
   "metadata": {
    "collapsed": false
   },
   "outputs": [
    {
     "name": "stdout",
     "output_type": "stream",
     "text": [
      "3526 1234\n",
      "['# 1 LOFT' '# 1 SUITES' '1 CANBERRA' ..., 'ZENITH' 'ZEPHYR PARK'\n",
      " 'ZHEN JI GARDEN'] [\"D'LEEDON\" 'MERGUI MANSIONS' 'MIMOSA PARK' ..., 'PINNACLE 16'\n",
      " 'BALMORAL POINT' 'STUDIO 3']\n"
     ]
    }
   ],
   "source": [
    "t = train_data_pri.project_name.unique()\n",
    "t1 = test_data_pri.project_name.unique()\n",
    "#t = t + t1\n",
    "t = np.append(t,t1)\n",
    "#t = t.unique()\n",
    "t = np.unique(t)\n",
    "t.sort()\n",
    "print len(t),len(t1)\n",
    "print t,t1\n",
    "name_dict={}\n",
    "for i in range(len(t)):\n",
    "    name_dict[t[i]] = i+1\n",
    "#print block_dict\n",
    "\n",
    "train_data_pri['project_name'] = train_data_pri.project_name.apply(lambda x : name_dict[x])\n",
    "test_data_pri['project_name'] = test_data_pri.project_name.apply(lambda x : name_dict[x])"
   ]
  },
  {
   "cell_type": "code",
   "execution_count": 17,
   "metadata": {
    "collapsed": false
   },
   "outputs": [
    {
     "name": "stdout",
     "output_type": "stream",
     "text": [
      "311913\n",
      "4033\n"
     ]
    }
   ],
   "source": [
    "print len(train_data_pri.address.unique())\n",
    "print len(test_data_pri.address.unique())"
   ]
  },
  {
   "cell_type": "code",
   "execution_count": 18,
   "metadata": {
    "collapsed": false
   },
   "outputs": [
    {
     "name": "stdout",
     "output_type": "stream",
     "text": [
      "313064 4033\n",
      "['01 Ang Mo Kio Street 66  #03-06 ' '01 Bishan Street 15  #22-02 '\n",
      " '01 Bishan Street 15  #23-02 ' ..., 'Yong Siak Street ' 'Yunnan Drive '\n",
      " 'n'] ['11 Leedon Heights  #06-31 ' '81 Mergui Road  #03-02 '\n",
      " '43 Mimosa Road  #03-49 ' ..., '9 Rhu Cross  #01-02 '\n",
      " '91 Marine Parade Road  #09-07 ' '1 Jalan Anak Bukit  #08-06 ']\n"
     ]
    }
   ],
   "source": [
    "t = train_data_pri.address.unique()\n",
    "t1 = test_data_pri.address.unique()\n",
    "#t = t + t1\n",
    "t = np.append(t,t1)\n",
    "#t = t.unique()\n",
    "t = np.unique(t)\n",
    "t.sort()\n",
    "print len(t),len(t1)\n",
    "print t,t1\n",
    "address_dict={}\n",
    "for i in range(len(t)):\n",
    "    address_dict[t[i]] = i+1\n",
    "#print block_dict\n",
    "\n",
    "train_data_pri['address'] = train_data_pri.address.apply(lambda x : address_dict[x])\n",
    "test_data_pri['address'] = test_data_pri.address.apply(lambda x : address_dict[x])"
   ]
  },
  {
   "cell_type": "code",
   "execution_count": 19,
   "metadata": {
    "collapsed": false
   },
   "outputs": [
    {
     "data": {
      "image/png": "[encoded data removed]",
      "text/plain": [
       "<Figure size 864x648 with 2 Axes>"
      ]
     },
     "metadata": {},
     "output_type": "display_data"
    }
   ],
   "source": [
    "corrmat = train_data_pri.corr()\n",
    "f, ax = plt.subplots(figsize=(12, 9))\n",
    "sns.heatmap(corrmat, vmax=.8, square=True);\n",
    "plt.show()"
   ]
  },
  {
   "cell_type": "code",
   "execution_count": null,
   "metadata": {
    "collapsed": true
   },
   "outputs": [],
   "source": []
  }
 ],
 "metadata": {
  "kernelspec": {
   "display_name": "Python 2",
   "language": "python",
   "name": "python2"
  },
  "language_info": {
   "codemirror_mode": {
    "name": "ipython",
    "version": 2
   },
   "file_extension": ".py",
   "mimetype": "text/x-python",
   "name": "python",
   "nbconvert_exporter": "python",
   "pygments_lexer": "ipython2",
   "version": "2.7.14"
  }
 },
 "nbformat": 4,
 "nbformat_minor": 0
}
